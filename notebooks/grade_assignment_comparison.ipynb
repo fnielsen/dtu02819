{
 "metadata": {
  "name": "",
  "signature": "sha256:573dc8bbb92ff2ab7f93a8a61b6ab64da22182d58136ce1f7b5616a01ae54193"
 },
 "nbformat": 3,
 "nbformat_minor": 0,
 "worksheets": [
  {
   "cells": [
    {
     "cell_type": "markdown",
     "metadata": {},
     "source": [
      "Grade/assignment comparison\n",
      "========================\n",
      "\n",
      "Comparison of grades and assignments for the DTU course 'Data Mining using Python' (02819).\n",
      "\n",
      "Two files from CampusNet should be download to a specific directory.\n",
      "\n",
      "\n",
      "Author\n",
      "-----\n",
      "Finn \u00c5rup Nielsen, http://www.compute.dtu.dk/~faan/"
     ]
    },
    {
     "cell_type": "code",
     "collapsed": false,
     "input": [
      "from os.path import join, expanduser\n",
      "from lxml import etree\n",
      "import matplotlib.pyplot as plt\n",
      "import pandas as pd"
     ],
     "language": "python",
     "metadata": {},
     "outputs": [],
     "prompt_number": 1
    },
    {
     "cell_type": "code",
     "collapsed": false,
     "input": [
      "semester = 'E13'"
     ],
     "language": "python",
     "metadata": {},
     "outputs": [],
     "prompt_number": 2
    },
    {
     "cell_type": "code",
     "collapsed": false,
     "input": [
      "# Note data files need to be saved in particular directory structure!\n",
      "directory = expanduser('~/data/dtu02819')\n",
      "filename_grades = join(directory, semester, \n",
      "                       'Karakterindberetning - Danmarks Tekniske Universitet.html')\n",
      "filename_assignment = join(directory, semester,\n",
      "                           'Resultater.xlsx')"
     ],
     "language": "python",
     "metadata": {},
     "outputs": [],
     "prompt_number": 3
    },
    {
     "cell_type": "code",
     "collapsed": false,
     "input": [
      "# Read saved HTML with grades\n",
      "tree = etree.HTML(open(filename_grades).read())\n",
      "table_element = tree.xpath(\"//table[@class='deltagerliste']\")[0]\n",
      "elements = table_element.xpath(\".//tr\")\n",
      "grades_dict = [dict(zip(['Bruger', 'Name', 'Grade'],\n",
      "                        [node.text for node in element.iter()][1:])) for element in elements]\n",
      "grades = pd.DataFrame(grades_dict)"
     ],
     "language": "python",
     "metadata": {},
     "outputs": [],
     "prompt_number": 4
    },
    {
     "cell_type": "code",
     "collapsed": false,
     "input": [
      "# Read Excel sheet downloaded from 'Assignments' on Campusnet\n",
      "assignment = pd.read_excel(filename_assignment, 'Resultater', skiprows=3)"
     ],
     "language": "python",
     "metadata": {},
     "outputs": [],
     "prompt_number": 5
    },
    {
     "cell_type": "code",
     "collapsed": false,
     "input": [
      "# Merge data sets on study number\n",
      "data = pd.merge(grades, assignment, on='Bruger')"
     ],
     "language": "python",
     "metadata": {},
     "outputs": [],
     "prompt_number": 6
    },
    {
     "cell_type": "code",
     "collapsed": false,
     "input": [
      "# Convert the string grade to numeric\n",
      "try: \n",
      "    data.ix[data['Grade']=='EM', 'Grade'] = -2\n",
      "except TypeError:\n",
      "    pass\n",
      "data['Grade'] = data['Grade'].astype(int)"
     ],
     "language": "python",
     "metadata": {},
     "outputs": [],
     "prompt_number": 7
    },
    {
     "cell_type": "code",
     "collapsed": false,
     "input": [
      "%matplotlib inline\n",
      "data.plot(x='Score', y='Grade', kind='scatter')\n",
      "plt.show()"
     ],
     "language": "python",
     "metadata": {},
     "outputs": [
      {
       "metadata": {},
       "output_type": "display_data",
       "png": "[encoded data removed]",
       "text": [
        "<matplotlib.figure.Figure at 0x45bb510>"
       ]
      }
     ],
     "prompt_number": 8
    },
    {
     "cell_type": "code",
     "collapsed": false,
     "input": [],
     "language": "python",
     "metadata": {},
     "outputs": []
    }
   ],
   "metadata": {}
  }
 ]
}